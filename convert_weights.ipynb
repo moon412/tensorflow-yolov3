{
 "cells": [
  {
   "cell_type": "code",
   "execution_count": 1,
   "metadata": {},
   "outputs": [
    {
     "name": "stderr",
     "output_type": "stream",
     "text": [
      "/Users/yuezha01/anaconda3/envs/tensorflow_cpu/lib/python3.6/importlib/_bootstrap.py:219: RuntimeWarning: numpy.dtype size changed, may indicate binary incompatibility. Expected 96, got 88\n",
      "  return f(*args, **kwds)\n",
      "/Users/yuezha01/anaconda3/envs/tensorflow_cpu/lib/python3.6/importlib/_bootstrap.py:219: RuntimeWarning: numpy.dtype size changed, may indicate binary incompatibility. Expected 96, got 88\n",
      "  return f(*args, **kwds)\n"
     ]
    }
   ],
   "source": [
    "import argparse\n",
    "import tensorflow as tf\n",
    "from core.yolov3 import YOLOV3\n",
    "from core.config import cfg"
   ]
  },
  {
   "cell_type": "code",
   "execution_count": 4,
   "metadata": {},
   "outputs": [
    {
     "name": "stdout",
     "output_type": "stream",
     "text": [
      "./checkpoint/yolov3_coco.ckpt\n",
      "./checkpoint/yolov3_coco_demo.ckpt\n"
     ]
    }
   ],
   "source": [
    "org_weights_path = cfg.YOLO.ORIGINAL_WEIGHT\n",
    "cur_weights_path = cfg.YOLO.DEMO_WEIGHT\n",
    "preserve_cur_names = ['conv_sbbox', 'conv_mbbox', 'conv_lbbox']\n",
    "preserve_org_names = ['Conv_6', 'Conv_14', 'Conv_22']\n",
    "print(org_weights_path)\n",
    "print(cur_weights_path)"
   ]
  },
  {
   "cell_type": "code",
   "execution_count": 5,
   "metadata": {},
   "outputs": [],
   "source": [
    "org_weights_mess = []\n",
    "tf.Graph().as_default()\n",
    "load = tf.train.import_meta_graph(org_weights_path + '.meta')"
   ]
  },
  {
   "cell_type": "code",
   "execution_count": 6,
   "metadata": {},
   "outputs": [
    {
     "data": {
      "text/plain": [
       "<tensorflow.python.training.saver.Saver at 0x128471748>"
      ]
     },
     "execution_count": 6,
     "metadata": {},
     "output_type": "execute_result"
    }
   ],
   "source": [
    "load"
   ]
  },
  {
   "cell_type": "code",
   "execution_count": 7,
   "metadata": {},
   "outputs": [
    {
     "name": "stderr",
     "output_type": "stream",
     "text": [
      "WARNING: Logging before flag parsing goes to stderr.\n",
      "W0822 14:03:25.660254 4637427136 deprecation.py:323] From /Users/yuezha01/anaconda3/envs/tensorflow_cpu/lib/python3.6/site-packages/tensorflow/python/training/saver.py:1276: checkpoint_exists (from tensorflow.python.training.checkpoint_management) is deprecated and will be removed in a future version.\n",
      "Instructions for updating:\n",
      "Use standard file APIs to check for files with this prefix.\n"
     ]
    }
   ],
   "source": [
    "with tf.Session() as sess:\n",
    "    load.restore(sess, org_weights_path)"
   ]
  },
  {
   "cell_type": "code",
   "execution_count": 9,
   "metadata": {},
   "outputs": [
    {
     "data": {
      "text/plain": [
       "366"
      ]
     },
     "execution_count": 9,
     "metadata": {},
     "output_type": "execute_result"
    }
   ],
   "source": [
    "len(tf.global_variables())"
   ]
  },
  {
   "cell_type": "code",
   "execution_count": 10,
   "metadata": {},
   "outputs": [
    {
     "data": {
      "text/plain": [
       "[<tf.Variable 'yolov3/darknet-53/Conv/weights:0' shape=(3, 3, 3, 32) dtype=float32_ref>,\n",
       " <tf.Variable 'yolov3/darknet-53/Conv/BatchNorm/gamma:0' shape=(32,) dtype=float32_ref>,\n",
       " <tf.Variable 'yolov3/darknet-53/Conv/BatchNorm/beta:0' shape=(32,) dtype=float32_ref>,\n",
       " <tf.Variable 'yolov3/darknet-53/Conv/BatchNorm/moving_mean:0' shape=(32,) dtype=float32_ref>,\n",
       " <tf.Variable 'yolov3/darknet-53/Conv/BatchNorm/moving_variance:0' shape=(32,) dtype=float32_ref>]"
      ]
     },
     "execution_count": 10,
     "metadata": {},
     "output_type": "execute_result"
    }
   ],
   "source": [
    "tf.global_variables()[0:5]"
   ]
  },
  {
   "cell_type": "markdown",
   "metadata": {},
   "source": [
    "### Test train.py"
   ]
  },
  {
   "cell_type": "code",
   "execution_count": 1,
   "metadata": {},
   "outputs": [
    {
     "name": "stderr",
     "output_type": "stream",
     "text": [
      "/Users/yuezha01/anaconda3/envs/tensorflow_cpu/lib/python3.6/importlib/_bootstrap.py:219: RuntimeWarning: numpy.dtype size changed, may indicate binary incompatibility. Expected 96, got 88\n",
      "  return f(*args, **kwds)\n",
      "/Users/yuezha01/anaconda3/envs/tensorflow_cpu/lib/python3.6/importlib/_bootstrap.py:219: RuntimeWarning: numpy.dtype size changed, may indicate binary incompatibility. Expected 96, got 88\n",
      "  return f(*args, **kwds)\n"
     ]
    }
   ],
   "source": [
    "import os\n",
    "import time\n",
    "import shutil\n",
    "import numpy as np\n",
    "import tensorflow as tf\n",
    "import core.utils as utils\n",
    "from tqdm import tqdm\n",
    "from core.dataset import Dataset\n",
    "from core.yolov3 import YOLOV3\n",
    "from core.config import cfg"
   ]
  },
  {
   "cell_type": "code",
   "execution_count": 2,
   "metadata": {},
   "outputs": [],
   "source": [
    "tmp_anchor_per_scale    = cfg.YOLO.ANCHOR_PER_SCALE\n",
    "tmp_classes             = utils.read_class_names(cfg.YOLO.CLASSES)\n",
    "tmp_num_classes         = len(tmp_classes)\n",
    "tmp_learn_rate_init     = cfg.TRAIN.LEARN_RATE_INIT\n",
    "tmp_learn_rate_end      = cfg.TRAIN.LEARN_RATE_END\n",
    "tmp_first_stage_epochs  = cfg.TRAIN.FISRT_STAGE_EPOCHS\n",
    "tmp_second_stage_epochs = cfg.TRAIN.SECOND_STAGE_EPOCHS\n",
    "tmp_warmup_periods      = cfg.TRAIN.WARMUP_EPOCHS\n",
    "tmp_initial_weight      = cfg.TRAIN.INITIAL_WEIGHT\n",
    "tmp_time                = time.strftime('%Y-%m-%d-%H-%M-%S', time.localtime(time.time()))\n",
    "tmp_moving_ave_decay    = cfg.YOLO.MOVING_AVE_DECAY\n",
    "tmp_max_bbox_per_scale  = 150\n",
    "tmp_train_logdir        = \"./data/log/train\"\n",
    "tmp_trainset            = Dataset('train')\n",
    "tmp_testset             = Dataset('test')\n",
    "tmp_steps_per_period    = len(tmp_trainset)\n",
    "tmp_sess                = tf.Session(config=tf.ConfigProto(allow_soft_placement=True))"
   ]
  },
  {
   "cell_type": "code",
   "execution_count": 9,
   "metadata": {},
   "outputs": [],
   "source": [
    "with tf.name_scope('define_input'):\n",
    "    tmp_input_data   = tf.placeholder(dtype=tf.float32, name='input_data')\n",
    "    # the label of the objects in each box\n",
    "    tmp_label_sbbox  = tf.placeholder(dtype=tf.float32, name='label_sbbox')\n",
    "    tmp_label_mbbox  = tf.placeholder(dtype=tf.float32, name='label_mbbox')\n",
    "    tmp_label_lbbox  = tf.placeholder(dtype=tf.float32, name='label_lbbox')\n",
    "    \n",
    "    # the coordinates of the boxes\n",
    "    tmp_true_sbboxes = tf.placeholder(dtype=tf.float32, name='sbboxes')\n",
    "    tmp_true_mbboxes = tf.placeholder(dtype=tf.float32, name='mbboxes')\n",
    "    tmp_true_lbboxes = tf.placeholder(dtype=tf.float32, name='lbboxes')\n",
    "    tmp_trainable     = tf.placeholder(dtype=tf.bool, name='training')"
   ]
  },
  {
   "cell_type": "code",
   "execution_count": null,
   "metadata": {},
   "outputs": [],
   "source": []
  }
 ],
 "metadata": {
  "kernelspec": {
   "display_name": "Python [conda env:tensorflow_cpu]",
   "language": "python",
   "name": "conda-env-tensorflow_cpu-py"
  },
  "language_info": {
   "codemirror_mode": {
    "name": "ipython",
    "version": 3
   },
   "file_extension": ".py",
   "mimetype": "text/x-python",
   "name": "python",
   "nbconvert_exporter": "python",
   "pygments_lexer": "ipython3",
   "version": "3.6.7"
  }
 },
 "nbformat": 4,
 "nbformat_minor": 4
}
